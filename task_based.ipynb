{
 "cells": [
  {
   "cell_type": "code",
   "execution_count": null,
   "metadata": {},
   "outputs": [],
   "source": []
  },
  {
   "cell_type": "code",
   "execution_count": 7,
   "metadata": {},
   "outputs": [],
   "source": [
    "# as extension task add the slot type\n",
    "def create_slot(slot_name, slot_model):\n",
    "    slot_model[slot_name] = \"unfilled\"\n",
    "\n",
    "def fill_slot(slot_name, slot_model, slot_value):\n",
    "    slot_model[slot_name] = slot_value"
   ]
  },
  {
   "cell_type": "code",
   "execution_count": 8,
   "metadata": {},
   "outputs": [],
   "source": [
    "create_slot_func = {\n",
    "    \"name\": \"create_slot\",\n",
    "    \"description\": \"function creates a slots based on a user query\",\n",
    "    \"parameters\": {\n",
    "        \"type\": \"object\",\n",
    "        \"properties\": {\n",
    "            \"slots_to_add\": {\n",
    "                \"type\": \"array\",\n",
    "                \"items\": {\n",
    "                    \"type\": \"string\",\n",
    "                    \"description\": \"name of the slot\"\n",
    "                },\n",
    "                \"description\": \"list of slots to add to accomplish what the user wants\"\n",
    "            }\n",
    "        },\n",
    "        \"required\": [\"slot_name\"]\n",
    "    }\n",
    "}\n",
    "\n",
    "fill_slot_func = {\n",
    "    \"name\": \"fill_slot\",\n",
    "    \"description\": \"function fills a slot name with slot value\",\n",
    "    \"parameters\": {\n",
    "        \"type\": \"object\",\n",
    "        \"properties\": {\n",
    "            \"slot_name\":{\n",
    "                \"type\": \"string\",\n",
    "                \"description\": \"name of the slot\"\n",
    "            },\n",
    "            \"slot_value\":{\n",
    "                \"type\": \"string\",\n",
    "                \"description\": \"value of the slot\"\n",
    "            }\n",
    "        },\n",
    "        \"required\": [\"slot_name\", \"slot_value\"]\n",
    "    }\n",
    "}"
   ]
  },
  {
   "cell_type": "code",
   "execution_count": null,
   "metadata": {},
   "outputs": [],
   "source": [
    "from openai import OpenAI\n",
    "\n",
    "analyze_system_prompt = '''\n",
    "    You are an assistant that can determine whether to create or fill a slot.\n",
    "    You are given a conversation context and a slot model.\n",
    "    The slot model is a list of slot names that need to be filled. \n",
    "    A slot name corresponds to a piece of information that the user can provide.\n",
    "    If the user answers with information answers a topic in the slot model then call fill_slot_func with the slot name and value.\n",
    "    If the user asks a question or requests for information or an action that is not in the slot model then call create_slot_func and pass in a list of slot names designating the information the system would need answered by the user to accomplish what they request.\n",
    "    Use the entire conversation context as context but only take an action based on the last user message.\n",
    "'''\n",
    "\n",
    "def analyze_response(convo_context, slot_model):\n",
    "    tools_in = [\n",
    "        {\n",
    "            \"type\": \"function\",\n",
    "            \"function\": create_slot_func,\n",
    "        },\n",
    "        {\n",
    "            \"type\": \"function\",\n",
    "            \"function\": fill_slot_func,\n",
    "        }\n",
    "    ]\n",
    "    \n",
    "    analyze_user_prompt = f'''\n",
    "        Here is the conversation context:\n",
    "        {convo_context}\n",
    "        Here are the slots that need to be filled:\n",
    "        {slot_model}\n",
    "    '''\n",
    "    \n",
    "    msgs_in = [\n",
    "        {\"role\": \"system\", \"content\": analyze_system_prompt},\n",
    "        {\"role\": \"user\", \"content\": analyze_user_prompt}\n",
    "    ]\n",
    "        \n",
    "    client = OpenAI()\n",
    "    completion = client.chat.completions.create(\n",
    "        model=\"gpt-4o\",\n",
    "        messages=msgs_in,\n",
    "        tools=tools_in,\n",
    "    )\n",
    "    \n",
    "    tool_choice = completion.choices[0].message.tool_calls[0] if completion.choices[0].message.tool_calls else None\n",
    "    print(\"tool_choice\", tool_choice)\n",
    "    "
   ]
  },
  {
   "cell_type": "code",
   "execution_count": 13,
   "metadata": {},
   "outputs": [
    {
     "name": "stdout",
     "output_type": "stream",
     "text": [
      "tool_choice ChatCompletionMessageToolCall(id='call_Ko5wGGnIA0jbjoovnTdtUkBE', function=Function(arguments='{\"slot_name\":\"budget\",\"slot_value\":\"$500\"}', name='fill_slot'), type='function')\n"
     ]
    }
   ],
   "source": [
    "slot_model_in = \"departure_date, budget, return_date, preferred_airline\"\n",
    "convo_context_in = '''\n",
    "    System: Hello how may I assist you in booking a flight today?\n",
    "    User: I would like to book a flight to New York.\n",
    "    System: What is your departure city?\n",
    "    User: I am departing from Los Angeles.\n",
    "    System: What is your budget?\n",
    "    User: My budget is $500.\n",
    "'''\n",
    "\n",
    "analyze_response(convo_context_in, slot_model_in)"
   ]
  },
  {
   "cell_type": "code",
   "execution_count": null,
   "metadata": {},
   "outputs": [
    {
     "name": "stdout",
     "output_type": "stream",
     "text": [
      "tool_choice ChatCompletionMessageToolCall(id='call_wP9wQ0luunRFidXNn8vO9Nxe', function=Function(arguments='{\"slots_to_add\":[\"hotel_location\",\"check_in_date\",\"check_out_date\",\"hotel_rating\"]}', name='create_slot'), type='function')\n"
     ]
    }
   ],
   "source": [
    "slot_model_in = \"preferred_airline\"\n",
    "convo_context_in = '''\n",
    "    System: Hello how may I assist you in booking a flight today?\n",
    "    User: I would like to book a flight to New York.\n",
    "    System: What is your departure city?\n",
    "    User: I am departing from Los Angeles.\n",
    "    System: What is your budget?\n",
    "    User: My budget is $500.\n",
    "    System: When is your departure date?\n",
    "    User: I am departing on the 10th of November.\n",
    "    System: What is your return date?\n",
    "    User: I am returning on the 15th.\n",
    "    System: Is there anything else you would like to add?\n",
    "    User: Are you able to book a hotel for me?\n",
    "'''\n",
    "\n",
    "analyze_response(convo_context_in, slot_model_in)"
   ]
  }
 ],
 "metadata": {
  "kernelspec": {
   "display_name": "venv",
   "language": "python",
   "name": "python3"
  },
  "language_info": {
   "codemirror_mode": {
    "name": "ipython",
    "version": 3
   },
   "file_extension": ".py",
   "mimetype": "text/x-python",
   "name": "python",
   "nbconvert_exporter": "python",
   "pygments_lexer": "ipython3",
   "version": "3.12.7"
  }
 },
 "nbformat": 4,
 "nbformat_minor": 2
}
